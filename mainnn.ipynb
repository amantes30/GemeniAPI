{
 "cells": [
  {
   "cell_type": "code",
   "execution_count": 5,
   "metadata": {},
   "outputs": [
    {
     "name": "stderr",
     "output_type": "stream",
     "text": [
      "/home/codespace/.python/current/lib/python3.10/site-packages/tqdm/auto.py:21: TqdmWarning: IProgress not found. Please update jupyter and ipywidgets. See https://ipywidgets.readthedocs.io/en/stable/user_install.html\n",
      "  from .autonotebook import tqdm as notebook_tqdm\n"
     ]
    }
   ],
   "source": [
    "import pathlib\n",
    "import textwrap\n",
    "import os\n",
    "\n",
    "import google.generativeai as genai\n",
    "\n",
    "from IPython.display import display\n",
    "from IPython.display import Markdown"
   ]
  },
  {
   "cell_type": "code",
   "execution_count": 7,
   "metadata": {},
   "outputs": [],
   "source": [
    "def to_markdown(text):\n",
    "  text = text.replace('•', '  *')\n",
    "  return Markdown(textwrap.indent(text, '> ', predicate=lambda _: True))"
   ]
  },
  {
   "cell_type": "code",
   "execution_count": 8,
   "metadata": {},
   "outputs": [],
   "source": [
    "GOOGLE_API_KEY=os.getenv('GOOGLE_API_KEY')\n",
    "\n",
    "genai.configure(api_key=GOOGLE_API_KEY)"
   ]
  },
  {
   "cell_type": "code",
   "execution_count": 9,
   "metadata": {},
   "outputs": [
    {
     "name": "stdout",
     "output_type": "stream",
     "text": [
      "models/gemini-1.0-pro\n",
      "models/gemini-1.0-pro-001\n",
      "models/gemini-1.0-pro-latest\n",
      "models/gemini-1.0-pro-vision-latest\n",
      "models/gemini-1.5-flash-latest\n",
      "models/gemini-1.5-pro-latest\n",
      "models/gemini-pro\n",
      "models/gemini-pro-vision\n"
     ]
    }
   ],
   "source": [
    "for m in genai.list_models():\n",
    "  if 'generateContent' in m.supported_generation_methods:\n",
    "    print(m.name)"
   ]
  },
  {
   "cell_type": "code",
   "execution_count": 10,
   "metadata": {},
   "outputs": [],
   "source": [
    "model = genai.GenerativeModel('gemini-pro')"
   ]
  },
  {
   "cell_type": "code",
   "execution_count": 11,
   "metadata": {},
   "outputs": [
    {
     "name": "stdout",
     "output_type": "stream",
     "text": [
      "CPU times: user 11 ms, sys: 1.3 ms, total: 12.3 ms\n",
      "Wall time: 7.46 s\n"
     ]
    }
   ],
   "source": [
    "%%time\n",
    "response = model.generate_content(\"What is the meaning of life?\")"
   ]
  },
  {
   "cell_type": "code",
   "execution_count": 12,
   "metadata": {},
   "outputs": [
    {
     "data": {
      "text/markdown": [
       "> The meaning of life is a profoundly personal and philosophical question that has occupied the minds of humans for millennia. There is no single, universally accepted answer, as the meaning of life can vary depending on individual perspectives, beliefs, and experiences.\n",
       "> \n",
       "> Here are some of the most common perspectives on the meaning of life:\n",
       "> \n",
       "> **Purpose-driven:** This view suggests that life has an inherent purpose or goal, such as fulfilling one's potential, making a positive impact on the world, or achieving spiritual enlightenment.\n",
       "> \n",
       "> **Existential:** This perspective emphasizes the freedom and responsibility of individuals to create their own meaning in life. It rejects the notion of an external or predetermined purpose and places the onus on individuals to find meaning through their actions, choices, and experiences.\n",
       "> \n",
       "> **Experiential:** This view focuses on the importance of living life to the fullest and experiencing all that it has to offer. It emphasizes the value of pursuing joy, pleasure, and fulfilling experiences.\n",
       "> \n",
       "> **Contribution-based:** This perspective suggests that life is meaningful when it is spent making a positive contribution to others or to the world at large. It emphasizes the importance of empathy, compassion, and service.\n",
       "> \n",
       "> **Connection-oriented:** This view places importance on building and maintaining meaningful relationships with others. It suggests that life is most fulfilling when we have strong connections with family, friends, and community.\n",
       "> \n",
       "> **Self-discovery:** This perspective emphasizes the journey of self-awareness and personal growth. It suggests that the meaning of life is found in the process of understanding oneself, developing one's potential, and becoming the best version of oneself.\n",
       "> \n",
       "> **Balance:** Some people believe that the meaning of life lies in finding a harmonious balance between different aspects of life, such as work, relationships, personal fulfillment, and spiritual growth.\n",
       "> \n",
       "> **Subjective:** Ultimately, the meaning of life is highly subjective and unique to each individual. It is a question that can be explored through introspection, reflection, and experiences throughout one's lifetime. There is no right or wrong answer, and the meaning of life may evolve and change over time.\n",
       "> \n",
       "> It's important to note that these are just a few perspectives on the meaning of life. The true meaning is something that each individual must discover for themselves through their own journey and experiences."
      ],
      "text/plain": [
       "<IPython.core.display.Markdown object>"
      ]
     },
     "execution_count": 12,
     "metadata": {},
     "output_type": "execute_result"
    }
   ],
   "source": [
    "to_markdown(response.text)"
   ]
  }
 ],
 "metadata": {
  "kernelspec": {
   "display_name": "Python 3",
   "language": "python",
   "name": "python3"
  },
  "language_info": {
   "codemirror_mode": {
    "name": "ipython",
    "version": 3
   },
   "file_extension": ".py",
   "mimetype": "text/x-python",
   "name": "python",
   "nbconvert_exporter": "python",
   "pygments_lexer": "ipython3",
   "version": "3.10.13"
  }
 },
 "nbformat": 4,
 "nbformat_minor": 2
}
