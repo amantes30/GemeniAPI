{
 "cells": [
  {
   "cell_type": "markdown",
   "metadata": {},
   "source": [
    "## Import Libraries"
   ]
  },
  {
   "cell_type": "code",
   "execution_count": null,
   "metadata": {},
   "outputs": [],
   "source": [
    "import pathlib\n",
    "import textwrap\n",
    "import os\n",
    "\n",
    "import google.generativeai as genai\n",
    "\n",
    "from IPython.display import display\n",
    "from IPython.display import Markdown"
   ]
  },
  {
   "cell_type": "code",
   "execution_count": 3,
   "metadata": {},
   "outputs": [],
   "source": [
    "def to_markdown(text):\n",
    "  text = text.replace('•', '  *')\n",
    "  return Markdown(textwrap.indent(text, '> ', predicate=lambda _: True))"
   ]
  },
  {
   "cell_type": "markdown",
   "metadata": {},
   "source": [
    "Setup API"
   ]
  },
  {
   "cell_type": "code",
   "execution_count": 4,
   "metadata": {},
   "outputs": [],
   "source": [
    "GOOGLE_API_KEY=os.getenv('GOOGLE_API_KEY')\n",
    "\n",
    "genai.configure(api_key=GOOGLE_API_KEY)"
   ]
  },
  {
   "cell_type": "markdown",
   "metadata": {},
   "source": [
    "List available models"
   ]
  },
  {
   "cell_type": "code",
   "execution_count": 12,
   "metadata": {},
   "outputs": [
    {
     "name": "stdout",
     "output_type": "stream",
     "text": [
      "gemini-1.0-pro\n",
      "gemini-1.0-pro-001\n",
      "gemini-1.0-pro-latest\n",
      "gemini-1.0-pro-vision-latest\n",
      "gemini-1.5-flash-latest\n",
      "gemini-1.5-pro-latest\n",
      "gemini-pro\n",
      "gemini-pro-vision\n"
     ]
    }
   ],
   "source": [
    "for m in genai.list_models():\n",
    "  if 'generateContent' in m.supported_generation_methods:\n",
    "    print(m.name.split('/')[-1])"
   ]
  },
  {
   "cell_type": "code",
   "execution_count": 7,
   "metadata": {},
   "outputs": [],
   "source": [
    "model = genai.GenerativeModel('gemini-pro')"
   ]
  },
  {
   "cell_type": "markdown",
   "metadata": {},
   "source": [
    "Test model"
   ]
  },
  {
   "cell_type": "code",
   "execution_count": 10,
   "metadata": {},
   "outputs": [
    {
     "name": "stdout",
     "output_type": "stream",
     "text": [
      "CPU times: user 5.12 ms, sys: 534 µs, total: 5.65 ms\n",
      "Wall time: 6.73 s\n"
     ]
    }
   ],
   "source": [
    "%%time\n",
    "response = model.generate_content(\"What is GUI testing?\")"
   ]
  },
  {
   "cell_type": "markdown",
   "metadata": {},
   "source": [
    "Output result"
   ]
  },
  {
   "cell_type": "code",
   "execution_count": 11,
   "metadata": {},
   "outputs": [
    {
     "data": {
      "text/markdown": [
       "> **GUI Testing (Graphical User Interface Testing)**\n",
       "> \n",
       "> GUI testing is a type of software testing that focuses on the graphical user interface (GUI) of a software application. It evaluates the functionality, usability, and overall user experience of the GUI elements, such as menus, buttons, forms, and windows.\n",
       "> \n",
       "> **Objectives of GUI Testing:**\n",
       "> \n",
       "> * **Verify Functionality:** Ensure that GUI elements work as intended and perform the expected actions.\n",
       "> * **Assess Usability:** Test the ease of use, intuitiveness, and accessibility of the GUI.\n",
       "> * **Check Interface Integrity:** Verify that the GUI is consistent, displays correctly across different screen resolutions, and responds appropriately to user inputs.\n",
       "> * **Detect Visual Defects:** Identify any graphical glitches, alignment issues, or broken images.\n",
       "> * **Measure Performance:** Evaluate the speed and responsiveness of the GUI, especially under varying user loads.\n",
       "> \n",
       "> **Types of GUI Testing:**\n",
       "> \n",
       "> * **Functional Testing:** Verifies that GUI elements perform their intended functions.\n",
       "> * **Usability Testing:** Assesses the user experience and ease of use of the GUI.\n",
       "> * **Interface Integrity Testing:** Checks the consistency and accuracy of the GUI interface.\n",
       "> * **Visual Testing:** Uses image comparison or other techniques to detect visual defects.\n",
       "> * **Performance Testing:** Evaluates the responsiveness and performance of the GUI under different conditions.\n",
       "> \n",
       "> **Tools for GUI Testing:**\n",
       "> \n",
       "> There are various tools available for GUI testing, including:\n",
       "> \n",
       "> * Selenium WebDriver\n",
       "> * Appium\n",
       "> * TestComplete\n",
       "> * Ranorex\n",
       "> * Watir\n",
       "> \n",
       "> **Benefits of GUI Testing:**\n",
       "> \n",
       "> * **Improved User Experience:** Ensures that the GUI is user-friendly, accessible, and intuitive.\n",
       "> * **Reduced Defects:** Identifies and fixes defects in the GUI early in the development cycle.\n",
       "> * **Increased Customer Satisfaction:** Provides a positive user experience, leading to increased customer satisfaction and loyalty.\n",
       "> * **Competitive Advantage:** Delivers software with a visually appealing and functional GUI, distinguishing it from competitors."
      ],
      "text/plain": [
       "<IPython.core.display.Markdown object>"
      ]
     },
     "execution_count": 11,
     "metadata": {},
     "output_type": "execute_result"
    }
   ],
   "source": [
    "to_markdown(response.text)"
   ]
  },
  {
   "cell_type": "markdown",
   "metadata": {},
   "source": [
    "Save a file"
   ]
  }
 ],
 "metadata": {
  "kernelspec": {
   "display_name": "Python 3",
   "language": "python",
   "name": "python3"
  },
  "language_info": {
   "codemirror_mode": {
    "name": "ipython",
    "version": 3
   },
   "file_extension": ".py",
   "mimetype": "text/x-python",
   "name": "python",
   "nbconvert_exporter": "python",
   "pygments_lexer": "ipython3",
   "version": "3.10.13"
  }
 },
 "nbformat": 4,
 "nbformat_minor": 2
}
