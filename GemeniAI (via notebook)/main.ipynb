{
 "cells": [
  {
   "cell_type": "markdown",
   "metadata": {},
   "source": []
  },
  {
   "cell_type": "markdown",
   "metadata": {},
   "source": [
    "## Import Libraries"
   ]
  },
  {
   "cell_type": "code",
   "execution_count": 1,
   "metadata": {},
   "outputs": [],
   "source": [
    "import pathlib\n",
    "import textwrap\n",
    "import os\n",
    "\n",
    "import google.generativeai as genai\n",
    "\n",
    "from IPython.display import display\n",
    "from IPython.display import Markdown"
   ]
  },
  {
   "cell_type": "code",
   "execution_count": 10,
   "metadata": {},
   "outputs": [],
   "source": [
    "def to_markdown(text):\n",
    "  text = text.replace('•', '  *')\n",
    "  return Markdown(textwrap.indent(text, '> ', predicate=lambda _: True))"
   ]
  },
  {
   "cell_type": "markdown",
   "metadata": {},
   "source": [
    "Setup API"
   ]
  },
  {
   "cell_type": "code",
   "execution_count": 3,
   "metadata": {},
   "outputs": [],
   "source": [
    "GOOGLE_API_KEY=os.getenv('GOOGLE_API_KEY')\n",
    "\n",
    "genai.configure(api_key=GOOGLE_API_KEY)"
   ]
  },
  {
   "cell_type": "markdown",
   "metadata": {},
   "source": [
    "List available models"
   ]
  },
  {
   "cell_type": "code",
   "execution_count": 4,
   "metadata": {},
   "outputs": [
    {
     "name": "stdout",
     "output_type": "stream",
     "text": [
      "gemini-1.0-pro\n",
      "gemini-1.0-pro-001\n",
      "gemini-1.0-pro-latest\n",
      "gemini-1.0-pro-vision-latest\n",
      "gemini-1.5-flash-latest\n",
      "gemini-1.5-pro-latest\n",
      "gemini-pro\n",
      "gemini-pro-vision\n"
     ]
    }
   ],
   "source": [
    "for m in genai.list_models():\n",
    "  if 'generateContent' in m.supported_generation_methods:\n",
    "    print(m.name.split('/')[-1])"
   ]
  },
  {
   "cell_type": "code",
   "execution_count": 5,
   "metadata": {},
   "outputs": [],
   "source": [
    "model = genai.GenerativeModel('gemini-pro')"
   ]
  },
  {
   "cell_type": "markdown",
   "metadata": {},
   "source": [
    "Test model"
   ]
  },
  {
   "cell_type": "code",
   "execution_count": 7,
   "metadata": {},
   "outputs": [
    {
     "name": "stdout",
     "output_type": "stream",
     "text": [
      "CPU times: user 4.2 ms, sys: 3.9 ms, total: 8.1 ms\n",
      "Wall time: 6.21 s\n"
     ]
    }
   ],
   "source": [
    "%%time\n",
    "response = model.generate_content(\"What is GUI testing?\")"
   ]
  },
  {
   "cell_type": "markdown",
   "metadata": {},
   "source": [
    "Output result"
   ]
  },
  {
   "cell_type": "code",
   "execution_count": 8,
   "metadata": {},
   "outputs": [
    {
     "data": {
      "text/markdown": [
       "> **Graphical User Interface (GUI) Testing**\n",
       "> \n",
       "> GUI testing is a type of software testing that focuses on evaluating the behavior and functionality of graphical user interfaces (GUIs). It involves testing the visual aspects, interactivity, and usability of the GUI elements, such as buttons, menus, text fields, and images.\n",
       "> \n",
       "> **Goals of GUI Testing:**\n",
       "> \n",
       "> * **Ensure visual correctness:** Verify that the GUI elements are displayed correctly, with appropriate layout, font, and color.\n",
       "> * **Test functionality:** Check if the GUI elements respond to user actions as intended, including navigation, data entry, and button clicks.\n",
       "> * **Evaluate usability:** Assess how easy it is for users to interact with the GUI and complete tasks.\n",
       "> * **Identify defects:** Find bugs or issues that may affect the user experience or functionality of the GUI.\n",
       "> \n",
       "> **Types of GUI Testing Techniques:**\n",
       "> \n",
       "> * **Functional testing:** Tests the correctness of GUI behavior based on specifications.\n",
       "> * **Usability testing:** Involves real users or testers evaluating the ease of use and efficiency of the GUI.\n",
       "> * **Visual testing:** Compares actual GUI appearance to expected results to ensure consistency and accuracy.\n",
       "> * **Performance testing:** Evaluates the GUI's responsiveness, speed, and resource consumption.\n",
       "> * **Security testing:** Checks for vulnerabilities or security risks in the GUI implementation.\n",
       "> \n",
       "> **Benefits of GUI Testing:**\n",
       "> \n",
       "> * Improved user experience: Ensures that the GUI is intuitive, user-friendly, and meets user needs.\n",
       "> * Reduced development cycles: Early detection of GUI defects helps to reduce rework and shorten development time.\n",
       "> * Enhanced software quality: Verifies the reliability and stability of the GUI, minimizing the risk of errors in production.\n",
       "> * Increased customer satisfaction: Delivers software with a polished and user-friendly GUI, leading to positive user reviews and adoption."
      ],
      "text/plain": [
       "<IPython.core.display.Markdown object>"
      ]
     },
     "execution_count": 11,
     "metadata": {},
     "output_type": "execute_result"
    }
   ],
   "source": [
    "to_markdown(response.text)"
   ]
  },
  {
   "cell_type": "markdown",
   "metadata": {},
   "source": [
    "Save a file"
   ]
  }
 ],
 "metadata": {
  "kernelspec": {
   "display_name": "Python 3",
   "language": "python",
   "name": "python3"
  },
  "language_info": {
   "codemirror_mode": {
    "name": "ipython",
    "version": 3
   },
   "file_extension": ".py",
   "mimetype": "text/x-python",
   "name": "python",
   "nbconvert_exporter": "python",
   "pygments_lexer": "ipython3",
   "version": "3.12.1"
  }
 },
 "nbformat": 4,
 "nbformat_minor": 2
}
