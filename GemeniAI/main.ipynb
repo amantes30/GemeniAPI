{
 "cells": [
  {
   "cell_type": "markdown",
   "metadata": {},
   "source": []
  },
  {
   "cell_type": "markdown",
   "metadata": {},
   "source": [
    "## Import Libraries"
   ]
  },
  {
   "cell_type": "code",
   "execution_count": 1,
   "metadata": {},
   "outputs": [],
   "source": [
    "import pathlib\n",
    "import textwrap\n",
    "import os\n",
    "\n",
    "import google.generativeai as genai\n",
    "\n",
    "from IPython.display import display\n",
    "from IPython.display import Markdown"
   ]
  },
  {
   "cell_type": "code",
   "execution_count": 2,
   "metadata": {},
   "outputs": [],
   "source": [
    "def to_markdown(text):\n",
    "  text = text.replace('•', '  *')\n",
    "  return Markdown(textwrap.indent(text, '> ', predicate=lambda _: True))"
   ]
  },
  {
   "cell_type": "markdown",
   "metadata": {},
   "source": [
    "Setup API"
   ]
  },
  {
   "cell_type": "code",
   "execution_count": 3,
   "metadata": {},
   "outputs": [],
   "source": [
    "GOOGLE_API_KEY=os.getenv('GOOGLE_API_KEY')\n",
    "\n",
    "genai.configure(api_key=GOOGLE_API_KEY)"
   ]
  },
  {
   "cell_type": "markdown",
   "metadata": {},
   "source": [
    "List available models"
   ]
  },
  {
   "cell_type": "code",
   "execution_count": null,
   "metadata": {},
   "outputs": [],
   "source": [
    "for m in genai.list_models():\n",
    "  if 'generateContent' in m.supported_generation_methods:\n",
    "    print(m.name.split('/')[-1])"
   ]
  },
  {
   "cell_type": "code",
   "execution_count": null,
   "metadata": {},
   "outputs": [],
   "source": [
    "model = genai.GenerativeModel('gemini-pro')"
   ]
  },
  {
   "cell_type": "markdown",
   "metadata": {},
   "source": [
    "Test model"
   ]
  },
  {
   "cell_type": "code",
   "execution_count": null,
   "metadata": {},
   "outputs": [
    {
     "name": "stdout",
     "output_type": "stream",
     "text": [
      "CPU times: user 6.28 ms, sys: 725 µs, total: 7.01 ms\n",
      "Wall time: 5.05 s\n"
     ]
    }
   ],
   "source": [
    "%%time\n",
    "response = model.generate_content(\"What is GUI testing?\")"
   ]
  },
  {
   "cell_type": "markdown",
   "metadata": {},
   "source": [
    "Output result"
   ]
  },
  {
   "cell_type": "code",
   "execution_count": null,
   "metadata": {},
   "outputs": [
    {
     "data": {
      "text/markdown": [
       "> GUI testing (Graphical User Interface testing) is a type of software testing that focuses on the graphical elements of an application. GUI testing ensures that the graphical user interface (GUI) is functioning as expected, is user-friendly, and meets the design specifications.\n",
       "> \n",
       "> **Key Aspects of GUI Testing:**\n",
       "> \n",
       "> * **Functional Testing:** Verifies that the GUI elements function correctly, such as buttons, menus, and input fields.\n",
       "> * **Usability Testing:** Evaluates the ease of use, intuitiveness, and overall user experience of the GUI.\n",
       "> * **Visual Testing:** Checks for visual correctness, including proper alignment, font styles, and color schemes.\n",
       "> * **Accessibility Testing:** Ensures that the GUI is accessible to users with disabilities, such as those using assistive technologies.\n",
       "> * **Cross-Platform Testing:** Tests the GUI across different platforms and devices to ensure consistent functionality and appearance.\n",
       "> \n",
       "> **Benefits of GUI Testing:**\n",
       "> \n",
       "> * Improves user experience by identifying usability issues.\n",
       "> * Reduces the risk of defects by ensuring proper GUI functionality.\n",
       "> * Enhances the overall quality of the software product.\n",
       "> * Enforces adherence to design specifications.\n",
       "> * Contributes to customer satisfaction by delivering a polished and user-friendly interface.\n",
       "> \n",
       "> **Tools for GUI Testing:**\n",
       "> \n",
       "> * Selenium (Open-source framework)\n",
       "> * Cypress (Modern JavaScript framework)\n",
       "> * Protractor (Angular-specific testing framework)\n",
       "> * TestCafe (Commercial framework)\n",
       "> * Telerik TestStudio (Commercial tool)"
      ],
      "text/plain": [
       "<IPython.core.display.Markdown object>"
      ]
     },
     "execution_count": 8,
     "metadata": {},
     "output_type": "execute_result"
    }
   ],
   "source": [
    "to_markdown(response.text)"
   ]
  },
  {
   "cell_type": "markdown",
   "metadata": {},
   "source": [
    "Save a file"
   ]
  }
 ],
 "metadata": {
  "kernelspec": {
   "display_name": "Python 3",
   "language": "python",
   "name": "python3"
  },
  "language_info": {
   "codemirror_mode": {
    "name": "ipython",
    "version": 3
   },
   "file_extension": ".py",
   "mimetype": "text/x-python",
   "name": "python",
   "nbconvert_exporter": "python",
   "pygments_lexer": "ipython3",
   "version": "3.12.1"
  }
 },
 "nbformat": 4,
 "nbformat_minor": 2
}
